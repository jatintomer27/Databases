{
 "cells": [
  {
   "cell_type": "markdown",
   "metadata": {},
   "source": [
    "#### NO SQL ( Not Only SQL)"
   ]
  },
  {
   "cell_type": "markdown",
   "metadata": {},
   "source": [
    "- NO SQL provides us distributed computation.\n",
    "- Flexible Schemas\n",
    "- Scalability\n"
   ]
  },
  {
   "cell_type": "markdown",
   "metadata": {},
   "source": [
    "### MongoDb\n",
    "\n",
    "- In mongodb there are databases.\n",
    "- Inside databases there are collections like tables in SQL.\n",
    "- Inside collections there are documents like records in SQL."
   ]
  },
  {
   "cell_type": "code",
   "execution_count": 2,
   "metadata": {},
   "outputs": [
    {
     "name": "stdout",
     "output_type": "stream",
     "text": [
      "Collecting pymongo\n",
      "  Downloading pymongo-4.8.0-cp311-cp311-win_amd64.whl.metadata (22 kB)\n",
      "Collecting dnspython<3.0.0,>=1.16.0 (from pymongo)\n",
      "  Downloading dnspython-2.6.1-py3-none-any.whl.metadata (5.8 kB)\n",
      "Downloading pymongo-4.8.0-cp311-cp311-win_amd64.whl (630 kB)\n",
      "   ---------------------------------------- 0.0/631.0 kB ? eta -:--:--\n",
      "   - ------------------------------------- 30.7/631.0 kB 660.6 kB/s eta 0:00:01\n",
      "   ------ ------------------------------- 102.4/631.0 kB 980.4 kB/s eta 0:00:01\n",
      "   -------------- ------------------------- 235.5/631.0 kB 1.6 MB/s eta 0:00:01\n",
      "   -------------------------------- ------- 512.0/631.0 kB 2.7 MB/s eta 0:00:01\n",
      "   --------------------------------- ------ 532.5/631.0 kB 2.6 MB/s eta 0:00:01\n",
      "   ---------------------------------------- 631.0/631.0 kB 2.3 MB/s eta 0:00:00\n",
      "Downloading dnspython-2.6.1-py3-none-any.whl (307 kB)\n",
      "   ---------------------------------------- 0.0/307.7 kB ? eta -:--:--\n",
      "   ---------------------------------------- 0.0/307.7 kB ? eta -:--:--\n",
      "   ---------------------------------------- 307.7/307.7 kB ? eta 0:00:00\n",
      "Installing collected packages: dnspython, pymongo\n",
      "Successfully installed dnspython-2.6.1 pymongo-4.8.0\n",
      "Note: you may need to restart the kernel to use updated packages.\n"
     ]
    }
   ],
   "source": [
    "# Install the driver for mongodb\n",
    "\n",
    "%pip install pymongo"
   ]
  },
  {
   "cell_type": "code",
   "execution_count": 1,
   "metadata": {},
   "outputs": [
    {
     "name": "stdout",
     "output_type": "stream",
     "text": [
      "Requirement already satisfied: pymongo[srv] in c:\\anaconda3\\lib\\site-packages (4.8.0)\n",
      "Requirement already satisfied: dnspython<3.0.0,>=1.16.0 in c:\\anaconda3\\lib\\site-packages (from pymongo[srv]) (2.6.1)\n",
      "Note: you may need to restart the kernel to use updated packages.\n"
     ]
    },
    {
     "name": "stderr",
     "output_type": "stream",
     "text": [
      "WARNING: pymongo 4.8.0 does not provide the extra 'srv'\n"
     ]
    }
   ],
   "source": [
    "# Need to connect with the cloud instance of mongodb\n",
    "\n",
    "%pip install pymongo[srv]"
   ]
  },
  {
   "cell_type": "code",
   "execution_count": 1,
   "metadata": {},
   "outputs": [],
   "source": [
    "import pymongo"
   ]
  },
  {
   "cell_type": "markdown",
   "metadata": {},
   "source": [
    "### Connect to MongoDB"
   ]
  },
  {
   "cell_type": "code",
   "execution_count": 2,
   "metadata": {},
   "outputs": [
    {
     "data": {
      "text/plain": [
       "MongoClient(host=['localhost:27017'], document_class=dict, tz_aware=False, connect=True)"
      ]
     },
     "execution_count": 2,
     "metadata": {},
     "output_type": "execute_result"
    }
   ],
   "source": [
    "DEFAULT_CONNECTION_URL = 'mongodb://localhost:27017/'\n",
    "client = pymongo.MongoClient(DEFAULT_CONNECTION_URL)\n",
    "client"
   ]
  },
  {
   "cell_type": "markdown",
   "metadata": {},
   "source": [
    "- In the MongoClient object if the connect is True then it is connected successfully."
   ]
  },
  {
   "cell_type": "markdown",
   "metadata": {},
   "source": [
    "### Create a Database"
   ]
  },
  {
   "cell_type": "code",
   "execution_count": 4,
   "metadata": {},
   "outputs": [
    {
     "data": {
      "text/plain": [
       "Database(MongoClient(host=['localhost:27017'], document_class=dict, tz_aware=False, connect=True), 'Jatin')"
      ]
     },
     "execution_count": 4,
     "metadata": {},
     "output_type": "execute_result"
    }
   ],
   "source": [
    "DB_NAME = 'Jatin'\n",
    "database = client[DB_NAME]\n",
    "database"
   ]
  },
  {
   "cell_type": "markdown",
   "metadata": {},
   "source": [
    "- Untill there is no document is available inside the db and its collection it will not show your database name at UI"
   ]
  },
  {
   "cell_type": "markdown",
   "metadata": {},
   "source": [
    "### Create a collection inside the database"
   ]
  },
  {
   "cell_type": "code",
   "execution_count": 6,
   "metadata": {},
   "outputs": [
    {
     "data": {
      "text/plain": [
       "Collection(Database(MongoClient(host=['localhost:27017'], document_class=dict, tz_aware=False, connect=True), 'Jatin'), 'collection_1')"
      ]
     },
     "execution_count": 6,
     "metadata": {},
     "output_type": "execute_result"
    }
   ],
   "source": [
    "COLLECTION_NAME = 'collection_1'\n",
    "collection = database[COLLECTION_NAME]\n",
    "collection"
   ]
  },
  {
   "cell_type": "markdown",
   "metadata": {},
   "source": [
    "### Write some data inside the created database and collection"
   ]
  },
  {
   "cell_type": "code",
   "execution_count": 7,
   "metadata": {},
   "outputs": [],
   "source": [
    "record = {\n",
    "    'name':'Jatin Tomer',\n",
    "    'vision':'Data Scientist'\n",
    "}"
   ]
  },
  {
   "cell_type": "code",
   "execution_count": 8,
   "metadata": {},
   "outputs": [
    {
     "data": {
      "text/plain": [
       "InsertOneResult(ObjectId('66dbde0bcca819889e87975d'), acknowledged=True)"
      ]
     },
     "execution_count": 8,
     "metadata": {},
     "output_type": "execute_result"
    }
   ],
   "source": [
    "collection.insert_one(record)"
   ]
  },
  {
   "cell_type": "markdown",
   "metadata": {},
   "source": [
    "### List all databases names"
   ]
  },
  {
   "cell_type": "code",
   "execution_count": 9,
   "metadata": {},
   "outputs": [
    {
     "data": {
      "text/plain": [
       "['Jatin', 'admin', 'config', 'local']"
      ]
     },
     "execution_count": 9,
     "metadata": {},
     "output_type": "execute_result"
    }
   ],
   "source": [
    "client.list_database_names()"
   ]
  },
  {
   "cell_type": "code",
   "execution_count": 12,
   "metadata": {},
   "outputs": [],
   "source": [
    "# Insert Multiple Records\n",
    "\n",
    "records = [\n",
    "    {\n",
    "        'name':'jatin tomer',\n",
    "        'vision':'Data Scientist'\n",
    "    },\n",
    "    {\n",
    "        'name':'jatin tomer',\n",
    "        'email':'jatintomer27@gmail.com'\n",
    "    },\n",
    "    {\n",
    "        'name':'jatin tomer',\n",
    "        'ig_id':'jatintomer27'\n",
    "    },\n",
    "    {\n",
    "        'name':'jatin tomer',\n",
    "        'lv':'cd'\n",
    "    }\n",
    "]\n",
    "\n",
    "rec = collection.insert_many(records)"
   ]
  },
  {
   "cell_type": "code",
   "execution_count": 13,
   "metadata": {},
   "outputs": [
    {
     "name": "stdout",
     "output_type": "stream",
     "text": [
      "0. 66dbe2f3cca819889e879762\n",
      "1. 66dbe2f3cca819889e879763\n",
      "2. 66dbe2f3cca819889e879764\n",
      "3. 66dbe2f3cca819889e879765\n"
     ]
    }
   ],
   "source": [
    "# Lets print the unique id of the records that have been inserted\n",
    "\n",
    "inserted_ids = rec.inserted_ids\n",
    "\n",
    "for idx, unique_ids in enumerate(inserted_ids):\n",
    "    print(f'{idx}. {unique_ids}')"
   ]
  },
  {
   "cell_type": "code",
   "execution_count": 14,
   "metadata": {},
   "outputs": [],
   "source": [
    "# We also override the default unique id by giving the user defined ID\n",
    "\n",
    "records = [\n",
    "    {\n",
    "        '_id':'1',\n",
    "        'name':'jatin tomer',\n",
    "        'current position':'ODOO developer'\n",
    "    },\n",
    "    {\n",
    "        '_id':'2',\n",
    "        'name':'jatin tomer',\n",
    "        'want':'Complete focus'\n",
    "    },\n",
    "\n",
    "]\n",
    "\n",
    "rec = collection.insert_many(records)"
   ]
  },
  {
   "cell_type": "markdown",
   "metadata": {},
   "source": [
    "### Find records in MangoDB collection"
   ]
  },
  {
   "cell_type": "code",
   "execution_count": 16,
   "metadata": {},
   "outputs": [
    {
     "data": {
      "text/plain": [
       "{'_id': ObjectId('66dbde0bcca819889e87975d'),\n",
       " 'name': 'Jatin Tomer',\n",
       " 'vision': 'Data Scientist'}"
      ]
     },
     "execution_count": 16,
     "metadata": {},
     "output_type": "execute_result"
    }
   ],
   "source": [
    "# Find the first record\n",
    "\n",
    "# It will return the first record\n",
    "\n",
    "first_record = collection.find_one()\n",
    "first_record"
   ]
  },
  {
   "cell_type": "code",
   "execution_count": 18,
   "metadata": {},
   "outputs": [
    {
     "data": {
      "text/plain": [
       "{'_id': '1', 'name': 'jatin tomer', 'current position': 'ODOO developer'}"
      ]
     },
     "execution_count": 18,
     "metadata": {},
     "output_type": "execute_result"
    }
   ],
   "source": [
    "# Find the record based on id\n",
    "\n",
    "first_record = collection.find_one({'_id':'1'})\n",
    "first_record"
   ]
  },
  {
   "cell_type": "code",
   "execution_count": 19,
   "metadata": {},
   "outputs": [
    {
     "data": {
      "text/plain": [
       "{'_id': ObjectId('66dbe2c8cca819889e879761'),\n",
       " 'name': 'jatin tomer',\n",
       " 'lv': 'cd'}"
      ]
     },
     "execution_count": 19,
     "metadata": {},
     "output_type": "execute_result"
    }
   ],
   "source": [
    "# Find the record based on other key\n",
    "\n",
    "first_record = collection.find_one({'lv':'cd'})\n",
    "first_record"
   ]
  },
  {
   "cell_type": "code",
   "execution_count": 24,
   "metadata": {},
   "outputs": [
    {
     "name": "stdout",
     "output_type": "stream",
     "text": [
      "0. {'_id': ObjectId('66dbde0bcca819889e87975d'), 'name': 'Jatin Tomer', 'vision': 'Data Scientist'}\n",
      "1. {'_id': ObjectId('66dbe2c8cca819889e87975e'), 'name': 'jatin tomer', 'vision': 'Data Scientist'}\n",
      "2. {'_id': ObjectId('66dbe2c8cca819889e87975f'), 'name': 'jatin tomer', 'email': 'jatintomer27@gmail.com'}\n",
      "3. {'_id': ObjectId('66dbe2c8cca819889e879760'), 'name': 'jatin tomer', 'ig_id': 'jatintomer27'}\n",
      "4. {'_id': ObjectId('66dbe2c8cca819889e879761'), 'name': 'jatin tomer', 'lv': 'cd'}\n",
      "5. {'_id': ObjectId('66dbe2f3cca819889e879762'), 'name': 'jatin tomer', 'vision': 'Data Scientist'}\n",
      "6. {'_id': ObjectId('66dbe2f3cca819889e879763'), 'name': 'jatin tomer', 'email': 'jatintomer27@gmail.com'}\n",
      "7. {'_id': ObjectId('66dbe2f3cca819889e879764'), 'name': 'jatin tomer', 'ig_id': 'jatintomer27'}\n",
      "8. {'_id': ObjectId('66dbe2f3cca819889e879765'), 'name': 'jatin tomer', 'lv': 'cd'}\n",
      "9. {'_id': '1', 'name': 'jatin tomer', 'current position': 'ODOO developer'}\n",
      "10. {'_id': '2', 'name': 'jatin tomer', 'want': 'Complete focus'}\n"
     ]
    }
   ],
   "source": [
    "# To get all the records present in the datbase collection\n",
    "\n",
    "# If will return an object\n",
    "\n",
    "records = collection.find()\n",
    "for idx,data in enumerate(records):\n",
    "    print(f'{idx}. {data}')"
   ]
  },
  {
   "cell_type": "code",
   "execution_count": 26,
   "metadata": {},
   "outputs": [
    {
     "name": "stdout",
     "output_type": "stream",
     "text": [
      "0. {'_id': ObjectId('66dbe2c8cca819889e879761'), 'name': 'jatin tomer', 'lv': 'cd'}\n",
      "1. {'_id': ObjectId('66dbe2f3cca819889e879765'), 'name': 'jatin tomer', 'lv': 'cd'}\n"
     ]
    }
   ],
   "source": [
    "# To get all the records present in the datbase collection that satisfy the condition\n",
    "\n",
    "records = collection.find({'lv':'cd'})\n",
    "for idx,data in enumerate(records):\n",
    "    print(f'{idx}. {data}')"
   ]
  },
  {
   "cell_type": "code",
   "execution_count": 28,
   "metadata": {},
   "outputs": [
    {
     "name": "stdout",
     "output_type": "stream",
     "text": [
      "0. {'_id': '2', 'name': 'jatin tomer', 'want': 'Complete focus'}\n"
     ]
    }
   ],
   "source": [
    "# You can also write the condition on the key\n",
    "\n",
    "query = {'_id':{'$gt':'1'}}\n",
    "records = collection.find(query)\n",
    "for idx,data in enumerate(records):\n",
    "    print(f'{idx}. {data}')"
   ]
  },
  {
   "cell_type": "markdown",
   "metadata": {},
   "source": [
    "### Delete one or many documents"
   ]
  },
  {
   "cell_type": "code",
   "execution_count": 30,
   "metadata": {},
   "outputs": [
    {
     "name": "stdout",
     "output_type": "stream",
     "text": [
      "DeleteResult({'n': 1, 'ok': 1.0}, acknowledged=True)\n"
     ]
    }
   ],
   "source": [
    "# Delete one document\n",
    "\n",
    "query = {'current position':\"ODOO developer\"}\n",
    "record = collection.delete_one(query)\n",
    "print(record)"
   ]
  },
  {
   "cell_type": "code",
   "execution_count": 32,
   "metadata": {},
   "outputs": [
    {
     "name": "stdout",
     "output_type": "stream",
     "text": [
      "DeleteResult({'n': 2, 'ok': 1.0}, acknowledged=True)\n"
     ]
    }
   ],
   "source": [
    "# Delete multiple documents\n",
    "\n",
    "query = {'email':'jatintomer27@gmail.com'}\n",
    "records = collection.delete_many(query)\n",
    "print(records)"
   ]
  },
  {
   "cell_type": "code",
   "execution_count": null,
   "metadata": {},
   "outputs": [],
   "source": [
    "# In order to delete all the documents you can pass a empty dict in the query.\n",
    "\n",
    "query = {}\n",
    "records = collection.delete_many(query)\n",
    "print(records)\n"
   ]
  },
  {
   "cell_type": "markdown",
   "metadata": {},
   "source": [
    "### Update the documents "
   ]
  },
  {
   "cell_type": "code",
   "execution_count": 33,
   "metadata": {},
   "outputs": [
    {
     "data": {
      "text/plain": [
       "UpdateResult({'n': 3, 'nModified': 3, 'ok': 1.0, 'updatedExisting': True}, acknowledged=True)"
      ]
     },
     "execution_count": 33,
     "metadata": {},
     "output_type": "execute_result"
    }
   ],
   "source": [
    "present_data = {'vision':'Data Scientist'}\n",
    "new_data = {'$set':{'aim':'Data Scientist'}}\n",
    "\n",
    "res = collection.update_many(present_data,new_data)\n",
    "res"
   ]
  },
  {
   "cell_type": "markdown",
   "metadata": {},
   "source": [
    "### Drop the entire collection"
   ]
  },
  {
   "cell_type": "code",
   "execution_count": null,
   "metadata": {},
   "outputs": [],
   "source": [
    "# Drop the collection\n",
    "\n",
    "collection.drop()"
   ]
  },
  {
   "cell_type": "code",
   "execution_count": null,
   "metadata": {},
   "outputs": [],
   "source": [
    "# Lets verify if the collection exist or not after droping it.\n",
    "\n",
    "COLLECTION_NAME = 'collection_1'\n",
    "DB_NAME = 'Jatin'\n",
    "res = checkExistence_COL(COLLECTION_NAME=COLLECTION_NAME,DB_NAME=DB_NAME,db=dataBase)"
   ]
  }
 ],
 "metadata": {
  "kernelspec": {
   "display_name": "base",
   "language": "python",
   "name": "python3"
  },
  "language_info": {
   "codemirror_mode": {
    "name": "ipython",
    "version": 3
   },
   "file_extension": ".py",
   "mimetype": "text/x-python",
   "name": "python",
   "nbconvert_exporter": "python",
   "pygments_lexer": "ipython3",
   "version": "3.11.7"
  }
 },
 "nbformat": 4,
 "nbformat_minor": 2
}
